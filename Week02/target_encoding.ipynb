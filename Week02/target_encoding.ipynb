{
 "cells": [
  {
   "cell_type": "markdown",
   "metadata": {},
   "source": [
    "# 初始化"
   ]
  },
  {
   "cell_type": "code",
   "execution_count": 7,
   "metadata": {},
   "outputs": [],
   "source": [
    "import numpy as np\n",
    "import pandas as pd\n",
    "\n",
    "y = np.random.randint(2, size=(100, 1))\n",
    "x = np.random.randint(10, size=(100, 1))\n",
    "data = pd.DataFrame(np.concatenate([y, x], axis=1), columns=['y', 'x'])"
   ]
  },
  {
   "cell_type": "markdown",
   "metadata": {},
   "source": [
    "# Python版"
   ]
  },
  {
   "cell_type": "code",
   "execution_count": 8,
   "metadata": {},
   "outputs": [],
   "source": [
    "def target_mean_v1(data, y_name, x_name):\n",
    "    result = np.zeros(data.shape[0])\n",
    "    for i in range(data.shape[0]):\n",
    "        groupby_result = data[data.index != i].groupby([x_name], as_index=False).agg(['mean', 'count'])\n",
    "        result[i] = groupby_result.loc[groupby_result.index == data.loc[i, x_name], (y_name, 'mean')]\n",
    "    return result"
   ]
  },
  {
   "cell_type": "code",
   "execution_count": null,
   "metadata": {},
   "outputs": [],
   "source": [
    "def target_mean_v2(data, y_name, x_name):\n",
    "    result = np.zeros(data.shape[0])\n",
    "    value_dict = dict()\n",
    "    count_dict = dict()\n",
    "    for i in range(data.shape[0]):\n",
    "        if data.loc[i, x_name] not in value_dict.keys():\n",
    "            value_dict[data.loc[i, x_name]] = data.loc[i, y_name]\n",
    "            count_dict[data.loc[i, x_name]] = 1\n",
    "        else:\n",
    "            value_dict[data.loc[i, x_name]] += data.loc[i, y_name]\n",
    "            count_dict[data.loc[i, x_name]] += 1\n",
    "    for i in range(data.shape[0]):\n",
    "        result[i] = (value_dict[data.loc[i, x_name]] - data.loc[i, y_name]) / (count_dict[data.loc[i, x_name]] - 1)\n",
    "    return result"
   ]
  },
  {
   "cell_type": "code",
   "execution_count": 12,
   "metadata": {},
   "outputs": [],
   "source": [
    "%%timeit\n",
    "target_mean_v1(data, 'y', 'x')"
   ]
  },
  {
   "cell_type": "code",
   "execution_count": 13,
   "metadata": {},
   "outputs": [],
   "source": [
    "%%timeit\n",
    "target_mean_v2(data, 'y', 'x')"
   ]
  },
  {
   "cell_type": "code",
   "execution_count": 14,
   "metadata": {},
   "outputs": [
    {
     "name": "stdout",
     "output_type": "stream",
     "text": [
      "0.0\n"
     ]
    }
   ],
   "source": [
    "result_1 = target_mean_v1(data, 'y', 'x')\n",
    "result_2 = target_mean_v2(data, 'y', 'x')\n",
    "\n",
    "diff = np.linalg.norm(result_1 - result_2)\n",
    "print(diff)"
   ]
  },
  {
   "cell_type": "code",
   "execution_count": 15,
   "metadata": {},
   "outputs": [],
   "source": [
    "%load_ext Cython"
   ]
  },
  {
   "cell_type": "markdown",
   "metadata": {},
   "source": [
    "# Cython 直接执行纯python"
   ]
  },
  {
   "cell_type": "code",
   "execution_count": null,
   "metadata": {},
   "outputs": [],
   "source": [
    "%%cython -a\n",
    "\n",
    "def target_mean_v3(data, y_name, x_name):\n",
    "    result = np.zeros(data.shape[0])\n",
    "    value_dict = dict()\n",
    "    count_dict = dict()\n",
    "    for i in range(data.shape[0]):\n",
    "        if data.loc[i, x_name] not in value_dict.keys():\n",
    "            value_dict[data.loc[i, x_name]] = data.loc[i, y_name]\n",
    "            count_dict[data.loc[i, x_name]] = 1\n",
    "        else:\n",
    "            value_dict[data.loc[i, x_name]] += data.loc[i, y_name]\n",
    "            count_dict[data.loc[i, x_name]] += 1\n",
    "    for i in range(data.shape[0]):\n",
    "        result[i] = (value_dict[data.loc[i, x_name]] - data.loc[i, y_name]) / (count_dict[data.loc[i, x_name]] - 1)\n",
    "    return result"
   ]
  },
  {
   "cell_type": "code",
   "execution_count": null,
   "metadata": {},
   "outputs": [],
   "source": [
    "%%cython\n",
    "%%timeit\n",
    "target_mean_v3(data, 'y', 'x')"
   ]
  }
 ],
 "metadata": {
  "kernelspec": {
   "display_name": "Python 3",
   "language": "python",
   "name": "python3"
  },
  "language_info": {
   "codemirror_mode": {
    "name": "ipython",
    "version": 3
   },
   "file_extension": ".py",
   "mimetype": "text/x-python",
   "name": "python",
   "nbconvert_exporter": "python",
   "pygments_lexer": "ipython3",
   "version": "3.7.4"
  }
 },
 "nbformat": 4,
 "nbformat_minor": 2
}
