{
 "cells": [
  {
   "cell_type": "code",
   "execution_count": 2,
   "metadata": {
    "pycharm": {
     "name": "#%%\n"
    }
   },
   "outputs": [],
   "source": [
    "\n",
    "import pandas as pd\n",
    "from sklearn.model_selection import train_test_split\n",
    "import lightgbm as lgb\n",
    "from sklearn.metrics import mean_absolute_error\n"
   ]
  },
  {
   "cell_type": "code",
   "execution_count": 62,
   "outputs": [
    {
     "name": "stdout",
     "output_type": "stream",
     "text": [
      "[LightGBM] [Warning] Auto-choosing row-wise multi-threading, the overhead of testing was 0.002281 seconds.\n",
      "You can set `force_row_wise=true` to remove the overhead.\n",
      "And if memory is not enough, you can set `force_col_wise=true`.\n",
      "[LightGBM] [Info] Total Bins 2611\n",
      "[LightGBM] [Info] Number of data points in the train set: 50000, number of used features: 141\n",
      "[LightGBM] [Info] Start training from score 0.795760\n",
      "[1]\tvalid_0's auc: 0.948928\tvalid_0's l2: 0.0648067\n",
      "Training until validation scores don't improve for 5 rounds\n",
      "[2]\tvalid_0's auc: 0.95041\tvalid_0's l2: 0.0617646\n",
      "[3]\tvalid_0's auc: 0.952782\tvalid_0's l2: 0.0617944\n",
      "[4]\tvalid_0's auc: 0.953968\tvalid_0's l2: 0.06205\n",
      "[5]\tvalid_0's auc: 0.953989\tvalid_0's l2: 0.0620907\n",
      "[6]\tvalid_0's auc: 0.953212\tvalid_0's l2: 0.0623673\n",
      "[7]\tvalid_0's auc: 0.952315\tvalid_0's l2: 0.0627473\n",
      "Early stopping, best iteration is:\n",
      "[2]\tvalid_0's auc: 0.95041\tvalid_0's l2: 0.0617646\n",
      "Mean Absolute Error : 0.12698311017879485\n",
      "[LightGBM] [Warning] Auto-choosing row-wise multi-threading, the overhead of testing was 0.002997 seconds.\n",
      "You can set `force_row_wise=true` to remove the overhead.\n",
      "And if memory is not enough, you can set `force_col_wise=true`.\n",
      "[LightGBM] [Info] Total Bins 2613\n",
      "[LightGBM] [Info] Number of data points in the train set: 50000, number of used features: 142\n",
      "[LightGBM] [Info] Start training from score 0.795760\n",
      "[1]\tvalid_0's auc: 0.948928\tvalid_0's l2: 0.0648067\n",
      "Training until validation scores don't improve for 5 rounds\n",
      "[2]\tvalid_0's auc: 0.950713\tvalid_0's l2: 0.0614481\n",
      "[3]\tvalid_0's auc: 0.953838\tvalid_0's l2: 0.0616292\n",
      "[4]\tvalid_0's auc: 0.954251\tvalid_0's l2: 0.0619153\n",
      "[5]\tvalid_0's auc: 0.954587\tvalid_0's l2: 0.0620306\n",
      "[6]\tvalid_0's auc: 0.953923\tvalid_0's l2: 0.0622957\n",
      "[7]\tvalid_0's auc: 0.953156\tvalid_0's l2: 0.0624307\n",
      "Early stopping, best iteration is:\n",
      "[2]\tvalid_0's auc: 0.950713\tvalid_0's l2: 0.0614481\n",
      "Mean Absolute Error : 0.12667191001087436\n",
      "Improve : 0.00031120016792049454\n"
     ]
    }
   ],
   "source": [
    "# 1.读文件\n",
    "train_data = pd.read_csv('/Users/teck/ai/training/ML-000/Week07/dataset/train_final.csv')\n",
    "test_data = pd.read_csv('/Users/teck/ai/training/ML-000/Week07/dataset/test_final.csv')\n",
    "\n",
    "\n",
    "# 2.切分数据输入：特征 输出：预测目标变量\n",
    "train_y = train_data.loan_status\n",
    "test_y = test_data.loan_status\n",
    "train_X = train_data.drop(['loan_status'], axis=1).select_dtypes(exclude=['object'])\n",
    "test_X = test_data.drop(['loan_status'], axis=1).select_dtypes(exclude=['object'])\n",
    "\n",
    "\n",
    "# 5.参数\n",
    "params = {\n",
    "    'task': 'train',\n",
    "    'boosting_type': 'gbdt',  # 设置提升类型\n",
    "    'objective': 'regression',  # 目标函数\n",
    "    'metric': {'l2', 'auc'},  # 评估函数\n",
    "    'num_leaves': 31,  # 叶子节点数\n",
    "    'learning_rate': 0.8,  # 学习速率\n",
    "    'feature_fraction': 0.9,  # 建树的特征选择比例\n",
    "    'bagging_fraction': 0.8,  # 建树的样本采样比例\n",
    "    'bagging_freq': 5,  # k 意味着每 k 次迭代执行bagging\n",
    "    'verbose': 1  # <0 显示致命的, =0 显示错误 (警告), >0 显示信息\n",
    "}\n",
    "\n",
    "\n",
    "# 4.转换为Dataset数据格式\n",
    "lgb_train = lgb.Dataset(train_X, train_y)\n",
    "lgb_eval = lgb.Dataset(test_X, test_y, reference=lgb_train)\n",
    "\n",
    "\n",
    "# 6.调用LightGBM模型，使用训练集数据进行训练（拟合）\n",
    "# Add verbosity=2 to print messages while running boosting\n",
    "my_model = lgb.train(params, lgb_train, num_boost_round=20, valid_sets=lgb_eval, early_stopping_rounds=5)\n",
    "\n",
    "# 7.使用模型对测试集数据进行预测\n",
    "predictions = my_model.predict(test_X, num_iteration=my_model.best_iteration)\n",
    "\n",
    "\n",
    "# 9.对模型的预测结果进行评判（平均绝对误差）\n",
    "defaultMeanError = mean_absolute_error(predictions, test_y);\n",
    "print(\"Mean Absolute Error : \" + str(defaultMeanError))\n",
    "\n",
    "\n",
    "\n",
    "# default Mean Absolute Error : 0.12048861027111889\n",
    "\n",
    "# 3、添加衍生列\n",
    "# train_X['a1'] = train_X['continuous_dti'].map(lambda x: 1 if x>20 else 0)\n",
    "# test_X['a1'] = test_X['continuous_dti'].map(lambda x: 1 if x>20 else 0)\n",
    "\n",
    "train_X['a1'] = train_X['continuous_installment'].map(lambda x: 1 if x>380 else 0)\n",
    "test_X['a1'] = test_X['continuous_installment'].map(lambda x: 1 if x>380 else 0)\n",
    "\n",
    "# train_X['a1'] = train_X['continuous_installment'] * train_X['continuous_installment']\n",
    "# test_X['a1'] = test_X['continuous_installment'] * test_X['continuous_installment']\n",
    "\n",
    "# train_X['a1'] = train_X['continuous_installment'] * train_X['continuous_int_rate']\n",
    "# test_X['a1'] = test_X['continuous_installment'] * test_X['continuous_int_rate']\n",
    "\n",
    "\n",
    "# 4.转换为Dataset数据格式\n",
    "lgb_train = lgb.Dataset(train_X, train_y)\n",
    "lgb_eval = lgb.Dataset(test_X, test_y, reference=lgb_train)\n",
    "\n",
    "\n",
    "# 6.调用LightGBM模型，使用训练集数据进行训练（拟合）\n",
    "# Add verbosity=2 to print messages while running boosting\n",
    "my_model = lgb.train(params, lgb_train, num_boost_round=20, valid_sets=lgb_eval, early_stopping_rounds=5)\n",
    "\n",
    "# 7.使用模型对测试集数据进行预测\n",
    "predictions = my_model.predict(test_X, num_iteration=my_model.best_iteration)\n",
    "\n",
    "\n",
    "# 9.对模型的预测结果进行评判（平均绝对误差）\n",
    "newMeanError = mean_absolute_error(predictions, test_y)\n",
    "print(\"Mean Absolute Error : \" + str(newMeanError))\n",
    "print(\"Improve : \" + str(defaultMeanError - newMeanError))"
   ],
   "metadata": {
    "collapsed": false,
    "pycharm": {
     "name": "#%%\n"
    }
   }
  }
 ],
 "metadata": {
  "kernelspec": {
   "display_name": "Python 3",
   "language": "python",
   "name": "python3"
  },
  "language_info": {
   "codemirror_mode": {
    "name": "ipython",
    "version": 3
   },
   "file_extension": ".py",
   "mimetype": "text/x-python",
   "name": "python",
   "nbconvert_exporter": "python",
   "pygments_lexer": "ipython3",
   "version": "3.7.4"
  }
 },
 "nbformat": 4,
 "nbformat_minor": 1
}